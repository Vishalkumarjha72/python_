{
 "cells": [
  {
   "cell_type": "code",
   "execution_count": 2,
   "id": "c064d5a0",
   "metadata": {},
   "outputs": [],
   "source": [
    "def isprime(n):\n",
    "    for d in range(2,n):\n",
    "        if(n%d ==0):\n",
    "            break\n",
    "    else:\n",
    "        return True\n",
    "    return False"
   ]
  },
  {
   "cell_type": "code",
   "execution_count": 4,
   "id": "3de2001b",
   "metadata": {},
   "outputs": [
    {
     "data": {
      "text/plain": [
       "False"
      ]
     },
     "execution_count": 4,
     "metadata": {},
     "output_type": "execute_result"
    }
   ],
   "source": [
    "isprime(10)"
   ]
  },
  {
   "cell_type": "code",
   "execution_count": 6,
   "id": "60e038b0",
   "metadata": {},
   "outputs": [
    {
     "data": {
      "text/plain": [
       "True"
      ]
     },
     "execution_count": 6,
     "metadata": {},
     "output_type": "execute_result"
    }
   ],
   "source": [
    "isprime(19)"
   ]
  },
  {
   "cell_type": "code",
   "execution_count": 7,
   "id": "d9cdf776",
   "metadata": {},
   "outputs": [],
   "source": [
    "def primeFrom2toN(n):\n",
    "    for k in range(2,n+1):\n",
    "#         is_k_prime = isprime(k)\n",
    "        if(isprime(k)):\n",
    "            print(k)"
   ]
  },
  {
   "cell_type": "code",
   "execution_count": 12,
   "id": "62818b08",
   "metadata": {},
   "outputs": [
    {
     "name": "stdout",
     "output_type": "stream",
     "text": [
      "2\n",
      "3\n",
      "5\n",
      "7\n",
      "11\n",
      "13\n",
      "17\n"
     ]
    }
   ],
   "source": [
    "primeFrom2toN(17)"
   ]
  },
  {
   "cell_type": "code",
   "execution_count": 16,
   "id": "0086e893",
   "metadata": {},
   "outputs": [],
   "source": [
    "def fact(n):\n",
    "    n_fact=1\n",
    "    for i in range(1,n+1):\n",
    "        n_fact= n_fact *i\n",
    "    return n_fact"
   ]
  },
  {
   "cell_type": "code",
   "execution_count": 17,
   "id": "a8347697",
   "metadata": {},
   "outputs": [
    {
     "data": {
      "text/plain": [
       "120"
      ]
     },
     "execution_count": 17,
     "metadata": {},
     "output_type": "execute_result"
    }
   ],
   "source": [
    "fact(5)"
   ]
  },
  {
   "cell_type": "code",
   "execution_count": 18,
   "id": "63112cab",
   "metadata": {},
   "outputs": [],
   "source": [
    "def ncr(n,r):\n",
    "    n_fact = fact(n)\n",
    "    r_fact = fact(r)\n",
    "    n_r_fact = fact(n-r)\n",
    "    ans = n_fact//(r_fact * n_r_fact)\n",
    "    return ans"
   ]
  },
  {
   "cell_type": "code",
   "execution_count": 20,
   "id": "898cdc1a",
   "metadata": {},
   "outputs": [
    {
     "data": {
      "text/plain": [
       "6"
      ]
     },
     "execution_count": 20,
     "metadata": {},
     "output_type": "execute_result"
    }
   ],
   "source": [
    "ncr(4,2)"
   ]
  },
  {
   "cell_type": "code",
   "execution_count": 22,
   "id": "4f5486f3",
   "metadata": {},
   "outputs": [
    {
     "data": {
      "text/plain": [
       "10"
      ]
     },
     "execution_count": 22,
     "metadata": {},
     "output_type": "execute_result"
    }
   ],
   "source": [
    "ncr(5,2)"
   ]
  },
  {
   "cell_type": "code",
   "execution_count": 23,
   "id": "3a727b2e",
   "metadata": {},
   "outputs": [],
   "source": [
    "def swap_consecutive(l):\n",
    "    i=0\n",
    "    while i+1 < len(l):\n",
    "        l[i], l[i+1] = l[i+1], l[i]\n",
    "        i = i+2"
   ]
  },
  {
   "cell_type": "code",
   "execution_count": 24,
   "id": "6cb5dfa6",
   "metadata": {},
   "outputs": [
    {
     "data": {
      "text/plain": [
       "[2, 1, 4, 3, 6, 5]"
      ]
     },
     "execution_count": 24,
     "metadata": {},
     "output_type": "execute_result"
    }
   ],
   "source": [
    "a =[1,2,3,4,5,6]\n",
    "swap_consecutive(a)\n",
    "a"
   ]
  },
  {
   "cell_type": "code",
   "execution_count": 25,
   "id": "2a406552",
   "metadata": {},
   "outputs": [
    {
     "data": {
      "text/plain": [
       "[2, 1, 4, 3, 6, 5, 7]"
      ]
     },
     "execution_count": 25,
     "metadata": {},
     "output_type": "execute_result"
    }
   ],
   "source": [
    "a =[1,2,3,4,5,6,7]\n",
    "swap_consecutive(a)\n",
    "a"
   ]
  }
 ],
 "metadata": {
  "kernelspec": {
   "display_name": "Python 3 (ipykernel)",
   "language": "python",
   "name": "python3"
  },
  "language_info": {
   "codemirror_mode": {
    "name": "ipython",
    "version": 3
   },
   "file_extension": ".py",
   "mimetype": "text/x-python",
   "name": "python",
   "nbconvert_exporter": "python",
   "pygments_lexer": "ipython3",
   "version": "3.9.7"
  }
 },
 "nbformat": 4,
 "nbformat_minor": 5
}
