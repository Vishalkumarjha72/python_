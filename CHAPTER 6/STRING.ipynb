{
 "cells": [
  {
   "cell_type": "code",
   "execution_count": 2,
   "id": "fb48eb91",
   "metadata": {},
   "outputs": [],
   "source": [
    "a = \"abc def\""
   ]
  },
  {
   "cell_type": "code",
   "execution_count": 3,
   "id": "f78bd0d2",
   "metadata": {},
   "outputs": [],
   "source": [
    "b = 'abc def'"
   ]
  },
  {
   "cell_type": "code",
   "execution_count": 5,
   "id": "4d296c41",
   "metadata": {},
   "outputs": [
    {
     "data": {
      "text/plain": [
       "(str, str)"
      ]
     },
     "execution_count": 5,
     "metadata": {},
     "output_type": "execute_result"
    }
   ],
   "source": [
    "type(a), type(b)"
   ]
  },
  {
   "cell_type": "code",
   "execution_count": 9,
   "id": "57661b94",
   "metadata": {},
   "outputs": [
    {
     "name": "stdout",
     "output_type": "stream",
     "text": [
      "<class 'str'>\n"
     ]
    }
   ],
   "source": [
    "c = 'd'\n",
    "type(c)\n",
    "print(type(c))"
   ]
  },
  {
   "cell_type": "code",
   "execution_count": 10,
   "id": "ce82da71",
   "metadata": {},
   "outputs": [
    {
     "data": {
      "text/plain": [
       "'a'"
      ]
     },
     "execution_count": 10,
     "metadata": {},
     "output_type": "execute_result"
    }
   ],
   "source": [
    "a[0]"
   ]
  },
  {
   "cell_type": "code",
   "execution_count": 13,
   "id": "dbe90e96",
   "metadata": {},
   "outputs": [
    {
     "data": {
      "text/plain": [
       "' '"
      ]
     },
     "execution_count": 13,
     "metadata": {},
     "output_type": "execute_result"
    }
   ],
   "source": [
    "a[3]"
   ]
  },
  {
   "cell_type": "code",
   "execution_count": 15,
   "id": "a0c5f80c",
   "metadata": {},
   "outputs": [
    {
     "data": {
      "text/plain": [
       "str"
      ]
     },
     "execution_count": 15,
     "metadata": {},
     "output_type": "execute_result"
    }
   ],
   "source": [
    "type(a[0])"
   ]
  },
  {
   "cell_type": "code",
   "execution_count": 17,
   "id": "2afc58d4",
   "metadata": {},
   "outputs": [
    {
     "name": "stdout",
     "output_type": "stream",
     "text": [
      "a\n",
      "b\n",
      "c\n",
      " \n",
      "d\n",
      "e\n",
      "f\n"
     ]
    }
   ],
   "source": [
    "for i in a:\n",
    "    print(i)"
   ]
  },
  {
   "cell_type": "code",
   "execution_count": 19,
   "id": "add2f9f2",
   "metadata": {},
   "outputs": [
    {
     "name": "stdout",
     "output_type": "stream",
     "text": [
      "abc def"
     ]
    }
   ],
   "source": [
    "for i in a:\n",
    "    print(i, end='')"
   ]
  },
  {
   "cell_type": "code",
   "execution_count": 20,
   "id": "45e5cc0e",
   "metadata": {},
   "outputs": [
    {
     "ename": "TypeError",
     "evalue": "'str' object does not support item assignment",
     "output_type": "error",
     "traceback": [
      "\u001b[1;31m---------------------------------------------------------------------------\u001b[0m",
      "\u001b[1;31mTypeError\u001b[0m                                 Traceback (most recent call last)",
      "\u001b[1;32mC:\\Users\\VISHAL~1\\AppData\\Local\\Temp/ipykernel_3400/3429122975.py\u001b[0m in \u001b[0;36m<module>\u001b[1;34m\u001b[0m\n\u001b[1;32m----> 1\u001b[1;33m \u001b[0ma\u001b[0m\u001b[1;33m[\u001b[0m\u001b[1;36m3\u001b[0m\u001b[1;33m]\u001b[0m\u001b[1;33m=\u001b[0m\u001b[1;34m'r'\u001b[0m\u001b[1;33m\u001b[0m\u001b[1;33m\u001b[0m\u001b[0m\n\u001b[0m",
      "\u001b[1;31mTypeError\u001b[0m: 'str' object does not support item assignment"
     ]
    }
   ],
   "source": [
    "a[3]='r'"
   ]
  },
  {
   "cell_type": "code",
   "execution_count": 24,
   "id": "1432b66f",
   "metadata": {},
   "outputs": [],
   "source": [
    "a= \"error?\""
   ]
  },
  {
   "cell_type": "code",
   "execution_count": 25,
   "id": "f72bf4fd",
   "metadata": {},
   "outputs": [
    {
     "data": {
      "text/plain": [
       "'error?'"
      ]
     },
     "execution_count": 25,
     "metadata": {},
     "output_type": "execute_result"
    }
   ],
   "source": [
    "a"
   ]
  },
  {
   "cell_type": "code",
   "execution_count": 26,
   "id": "5d6edffc",
   "metadata": {},
   "outputs": [
    {
     "ename": "SyntaxError",
     "evalue": "invalid syntax (Temp/ipykernel_3400/465086251.py, line 1)",
     "output_type": "error",
     "traceback": [
      "\u001b[1;36m  File \u001b[1;32m\"C:\\Users\\VISHAL~1\\AppData\\Local\\Temp/ipykernel_3400/465086251.py\"\u001b[1;36m, line \u001b[1;32m1\u001b[0m\n\u001b[1;33m    a = 'this is Vishal's pen'\u001b[0m\n\u001b[1;37m                        ^\u001b[0m\n\u001b[1;31mSyntaxError\u001b[0m\u001b[1;31m:\u001b[0m invalid syntax\n"
     ]
    }
   ],
   "source": [
    "a = 'this is Vishal's pen'"
   ]
  },
  {
   "cell_type": "code",
   "execution_count": 27,
   "id": "2823a672",
   "metadata": {},
   "outputs": [],
   "source": [
    "a = \"this is Vishal's pen\""
   ]
  },
  {
   "cell_type": "code",
   "execution_count": 28,
   "id": "8bc2765e",
   "metadata": {},
   "outputs": [],
   "source": [
    "b = 'He said \"Life is great\"'"
   ]
  },
  {
   "cell_type": "code",
   "execution_count": 29,
   "id": "a4e88f79",
   "metadata": {},
   "outputs": [],
   "source": [
    "a = 'this is Vishal\\'s pen'\n"
   ]
  },
  {
   "cell_type": "code",
   "execution_count": 30,
   "id": "cd26bbc1",
   "metadata": {},
   "outputs": [
    {
     "data": {
      "text/plain": [
       "(\"this is Vishal's pen\", 'He said \"Life is great\"')"
      ]
     },
     "execution_count": 30,
     "metadata": {},
     "output_type": "execute_result"
    }
   ],
   "source": [
    "a,b"
   ]
  },
  {
   "cell_type": "markdown",
   "id": "d9bb8971",
   "metadata": {},
   "source": [
    "# STRING CONCATINATION\n"
   ]
  },
  {
   "cell_type": "code",
   "execution_count": 31,
   "id": "94f65961",
   "metadata": {},
   "outputs": [
    {
     "data": {
      "text/plain": [
       "'this is Vishal\\'s penHe said \"Life is great\"'"
      ]
     },
     "execution_count": 31,
     "metadata": {},
     "output_type": "execute_result"
    }
   ],
   "source": [
    "a +b"
   ]
  },
  {
   "cell_type": "code",
   "execution_count": 32,
   "id": "08b2bed6",
   "metadata": {},
   "outputs": [],
   "source": [
    "a = a+b"
   ]
  },
  {
   "cell_type": "code",
   "execution_count": 35,
   "id": "50e516bf",
   "metadata": {},
   "outputs": [
    {
     "data": {
      "text/plain": [
       "False"
      ]
     },
     "execution_count": 35,
     "metadata": {},
     "output_type": "execute_result"
    }
   ],
   "source": [
    "a == b"
   ]
  },
  {
   "cell_type": "code",
   "execution_count": 36,
   "id": "bc304f85",
   "metadata": {},
   "outputs": [
    {
     "data": {
      "text/plain": [
       "True"
      ]
     },
     "execution_count": 36,
     "metadata": {},
     "output_type": "execute_result"
    }
   ],
   "source": [
    "a>b"
   ]
  },
  {
   "cell_type": "markdown",
   "id": "b7b181b0",
   "metadata": {},
   "source": [
    "# Split"
   ]
  },
  {
   "cell_type": "code",
   "execution_count": 1,
   "id": "0f596de7",
   "metadata": {},
   "outputs": [
    {
     "data": {
      "text/plain": [
       "'this is a str'"
      ]
     },
     "execution_count": 1,
     "metadata": {},
     "output_type": "execute_result"
    }
   ],
   "source": [
    "s = \"this is a str\"\n",
    "s.split()\n",
    "a = \"this is vishal's pen\"\n",
    "a\n",
    "s\n"
   ]
  },
  {
   "cell_type": "markdown",
   "id": "758de756",
   "metadata": {},
   "source": [
    "we can give the value where we want to split"
   ]
  },
  {
   "cell_type": "code",
   "execution_count": 46,
   "id": "6075914e",
   "metadata": {},
   "outputs": [
    {
     "data": {
      "text/plain": [
       "['th', ' ', ' v', \"hal's pen\"]"
      ]
     },
     "execution_count": 46,
     "metadata": {},
     "output_type": "execute_result"
    }
   ],
   "source": [
    "a.split(\"is\")"
   ]
  },
  {
   "cell_type": "markdown",
   "id": "e3c106d3",
   "metadata": {},
   "source": [
    "# Replace"
   ]
  },
  {
   "cell_type": "code",
   "execution_count": 63,
   "id": "aa0abf17",
   "metadata": {},
   "outputs": [
    {
     "data": {
      "text/plain": [
       "\"thare are varehal's pen\""
      ]
     },
     "execution_count": 63,
     "metadata": {},
     "output_type": "execute_result"
    }
   ],
   "source": [
    "a.replace(\"is\",\"are\")"
   ]
  },
  {
   "cell_type": "markdown",
   "id": "d38b9cf7",
   "metadata": {},
   "source": [
    "# Find"
   ]
  },
  {
   "cell_type": "code",
   "execution_count": 62,
   "id": "9eb4af3e",
   "metadata": {},
   "outputs": [
    {
     "data": {
      "text/plain": [
       "-1"
      ]
     },
     "execution_count": 62,
     "metadata": {},
     "output_type": "execute_result"
    }
   ],
   "source": [
    "a.find(\"is\")"
   ]
  },
  {
   "cell_type": "code",
   "execution_count": 73,
   "id": "e46bb772",
   "metadata": {},
   "outputs": [
    {
     "data": {
      "text/plain": [
       "2"
      ]
     },
     "execution_count": 73,
     "metadata": {},
     "output_type": "execute_result"
    }
   ],
   "source": [
    "a.find(\"are\")"
   ]
  },
  {
   "cell_type": "code",
   "execution_count": null,
   "id": "76f0327b",
   "metadata": {},
   "outputs": [],
   "source": [
    "a.replace(\"are\",\"is\")"
   ]
  },
  {
   "cell_type": "markdown",
   "id": "c059c56d",
   "metadata": {},
   "source": [
    "# Lower and Upper"
   ]
  },
  {
   "cell_type": "code",
   "execution_count": 57,
   "id": "c055a421",
   "metadata": {},
   "outputs": [
    {
     "data": {
      "text/plain": [
       "\"this is vishal's pen\""
      ]
     },
     "execution_count": 57,
     "metadata": {},
     "output_type": "execute_result"
    }
   ],
   "source": [
    "a.lower() #converts to lowercase"
   ]
  },
  {
   "cell_type": "code",
   "execution_count": 59,
   "id": "e62622c7",
   "metadata": {},
   "outputs": [
    {
     "data": {
      "text/plain": [
       "\"THIS IS VISHAL'S PEN\""
      ]
     },
     "execution_count": 59,
     "metadata": {},
     "output_type": "execute_result"
    }
   ],
   "source": [
    "a.upper() #converts to uppercase"
   ]
  },
  {
   "cell_type": "markdown",
   "id": "22244c72",
   "metadata": {},
   "source": [
    "# islower, isupper, isalpha and startswith"
   ]
  },
  {
   "cell_type": "code",
   "execution_count": 64,
   "id": "0321e4d6",
   "metadata": {},
   "outputs": [
    {
     "data": {
      "text/plain": [
       "True"
      ]
     },
     "execution_count": 64,
     "metadata": {},
     "output_type": "execute_result"
    }
   ],
   "source": [
    "a.islower() #checks for uppercase"
   ]
  },
  {
   "cell_type": "code",
   "execution_count": 67,
   "id": "9fbc949a",
   "metadata": {},
   "outputs": [
    {
     "data": {
      "text/plain": [
       "True"
      ]
     },
     "execution_count": 67,
     "metadata": {},
     "output_type": "execute_result"
    }
   ],
   "source": [
    "a.islower() #checks for lowercase"
   ]
  },
  {
   "cell_type": "code",
   "execution_count": 70,
   "id": "0f2be8a4",
   "metadata": {},
   "outputs": [
    {
     "data": {
      "text/plain": [
       "False"
      ]
     },
     "execution_count": 70,
     "metadata": {},
     "output_type": "execute_result"
    }
   ],
   "source": [
    "a.isalpha() #checks only for alphabet"
   ]
  },
  {
   "cell_type": "code",
   "execution_count": 71,
   "id": "5d413d45",
   "metadata": {},
   "outputs": [
    {
     "data": {
      "text/plain": [
       "False"
      ]
     },
     "execution_count": 71,
     "metadata": {},
     "output_type": "execute_result"
    }
   ],
   "source": [
    "a.startswith(\"this\") #checks if starts with"
   ]
  }
 ],
 "metadata": {
  "kernelspec": {
   "display_name": "Python 3 (ipykernel)",
   "language": "python",
   "name": "python3"
  },
  "language_info": {
   "codemirror_mode": {
    "name": "ipython",
    "version": 3
   },
   "file_extension": ".py",
   "mimetype": "text/x-python",
   "name": "python",
   "nbconvert_exporter": "python",
   "pygments_lexer": "ipython3",
   "version": "3.9.7"
  }
 },
 "nbformat": 4,
 "nbformat_minor": 5
}
