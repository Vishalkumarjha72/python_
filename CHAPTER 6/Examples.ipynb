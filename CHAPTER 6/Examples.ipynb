{
 "cells": [
  {
   "cell_type": "markdown",
   "id": "089e40bf",
   "metadata": {},
   "source": [
    "### Examples"
   ]
  },
  {
   "cell_type": "markdown",
   "id": "21c0f627",
   "metadata": {},
   "source": [
    "Gives the output of even sum - odd sum"
   ]
  },
  {
   "cell_type": "code",
   "execution_count": 4,
   "id": "18ca509a",
   "metadata": {},
   "outputs": [
    {
     "name": "stdout",
     "output_type": "stream",
     "text": [
      "12 3 34 453 65 66 3 \n",
      "-412\n"
     ]
    }
   ],
   "source": [
    "l =[int(s) for s in input().split()]\n",
    "even = 0\n",
    "odd = 0\n",
    "for i in l:\n",
    "    if i %2 ==0:\n",
    "        even += i\n",
    "    else:\n",
    "        odd +=i\n",
    "print(even - odd)"
   ]
  },
  {
   "cell_type": "code",
   "execution_count": null,
   "id": "dc5c478f",
   "metadata": {},
   "outputs": [],
   "source": []
  }
 ],
 "metadata": {
  "kernelspec": {
   "display_name": "Python 3 (ipykernel)",
   "language": "python",
   "name": "python3"
  },
  "language_info": {
   "codemirror_mode": {
    "name": "ipython",
    "version": 3
   },
   "file_extension": ".py",
   "mimetype": "text/x-python",
   "name": "python",
   "nbconvert_exporter": "python",
   "pygments_lexer": "ipython3",
   "version": "3.9.7"
  }
 },
 "nbformat": 4,
 "nbformat_minor": 5
}
