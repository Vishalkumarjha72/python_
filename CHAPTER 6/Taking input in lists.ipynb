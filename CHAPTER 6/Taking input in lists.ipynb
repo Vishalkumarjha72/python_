{
 "cells": [
  {
   "cell_type": "code",
   "execution_count": 1,
   "id": "e0048bf1",
   "metadata": {},
   "outputs": [
    {
     "name": "stdout",
     "output_type": "stream",
     "text": [
      "5\n",
      "1\n",
      "2\n",
      "23\n",
      "42\n",
      "45\n",
      "[1, 2, 23, 42, 45]\n"
     ]
    }
   ],
   "source": [
    "# Takes input in different lines\n",
    "s =  int(input())\n",
    "a =[]\n",
    "for i in range(s):\n",
    "    ne = int(input())\n",
    "    a.append(ne)\n",
    "print(a)"
   ]
  },
  {
   "cell_type": "code",
   "execution_count": 3,
   "id": "925b4bd1",
   "metadata": {},
   "outputs": [
    {
     "name": "stdout",
     "output_type": "stream",
     "text": [
      "5 42 23 11 3243 44\n"
     ]
    }
   ],
   "source": [
    "# to take input of list in a single line\n",
    "line = input()\n",
    "l= line.split()"
   ]
  },
  {
   "cell_type": "code",
   "execution_count": 4,
   "id": "28a1a7d1",
   "metadata": {},
   "outputs": [
    {
     "data": {
      "text/plain": [
       "['5', '42', '23', '11', '3243', '44']"
      ]
     },
     "execution_count": 4,
     "metadata": {},
     "output_type": "execute_result"
    }
   ],
   "source": [
    "l"
   ]
  },
  {
   "cell_type": "code",
   "execution_count": 10,
   "id": "b4d11565",
   "metadata": {},
   "outputs": [
    {
     "name": "stdout",
     "output_type": "stream",
     "text": [
      "1 34 55 33 44\n"
     ]
    },
    {
     "data": {
      "text/plain": [
       "[1, 34, 55, 33, 44]"
      ]
     },
     "execution_count": 10,
     "metadata": {},
     "output_type": "execute_result"
    }
   ],
   "source": [
    "#Taking input of list in a single line\n",
    "line =input()\n",
    "l = line.split()\n",
    "a = []\n",
    "for s in l:\n",
    "    a.append(int(s))\n",
    "a"
   ]
  },
  {
   "cell_type": "code",
   "execution_count": 11,
   "id": "f27ee200",
   "metadata": {},
   "outputs": [
    {
     "name": "stdout",
     "output_type": "stream",
     "text": [
      "1 3 4 5 6\n"
     ]
    },
    {
     "data": {
      "text/plain": [
       "[1, 3, 4, 5, 6]"
      ]
     },
     "execution_count": 11,
     "metadata": {},
     "output_type": "execute_result"
    }
   ],
   "source": [
    "#taking input of list in a single line\n",
    "l = input().split()\n",
    "a = [int(s) for s in l]\n",
    "a"
   ]
  },
  {
   "cell_type": "code",
   "execution_count": 14,
   "id": "d16239bc",
   "metadata": {},
   "outputs": [
    {
     "name": "stdout",
     "output_type": "stream",
     "text": [
      " 1 3 64 453223 44\n"
     ]
    }
   ],
   "source": [
    "# Taking input of list in a single line\n",
    "a =[int(s) for s in input().split()]"
   ]
  },
  {
   "cell_type": "code",
   "execution_count": 15,
   "id": "a7183e8b",
   "metadata": {},
   "outputs": [
    {
     "data": {
      "text/plain": [
       "[1, 3, 64, 453223, 44]"
      ]
     },
     "execution_count": 15,
     "metadata": {},
     "output_type": "execute_result"
    }
   ],
   "source": [
    "a"
   ]
  }
 ],
 "metadata": {
  "kernelspec": {
   "display_name": "Python 3 (ipykernel)",
   "language": "python",
   "name": "python3"
  },
  "language_info": {
   "codemirror_mode": {
    "name": "ipython",
    "version": 3
   },
   "file_extension": ".py",
   "mimetype": "text/x-python",
   "name": "python",
   "nbconvert_exporter": "python",
   "pygments_lexer": "ipython3",
   "version": "3.9.7"
  }
 },
 "nbformat": 4,
 "nbformat_minor": 5
}
