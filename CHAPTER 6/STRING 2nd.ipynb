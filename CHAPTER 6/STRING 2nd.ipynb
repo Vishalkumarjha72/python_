{
 "cells": [
  {
   "cell_type": "markdown",
   "id": "e848a6bb",
   "metadata": {},
   "source": [
    "### STRING SLICING\n",
    "Substring is generally called as slicing"
   ]
  },
  {
   "cell_type": "code",
   "execution_count": 5,
   "id": "fe15b569",
   "metadata": {},
   "outputs": [],
   "source": [
    "a=\"this is slicing\""
   ]
  },
  {
   "cell_type": "code",
   "execution_count": 6,
   "id": "fc996955",
   "metadata": {},
   "outputs": [
    {
     "data": {
      "text/plain": [
       "'is '"
      ]
     },
     "execution_count": 6,
     "metadata": {},
     "output_type": "execute_result"
    }
   ],
   "source": [
    "a[2:5]"
   ]
  },
  {
   "cell_type": "code",
   "execution_count": 7,
   "id": "90c8b164",
   "metadata": {},
   "outputs": [
    {
     "data": {
      "text/plain": [
       "'is sl'"
      ]
     },
     "execution_count": 7,
     "metadata": {},
     "output_type": "execute_result"
    }
   ],
   "source": [
    "a[5:10]"
   ]
  },
  {
   "cell_type": "code",
   "execution_count": 8,
   "id": "954760fb",
   "metadata": {},
   "outputs": [
    {
     "data": {
      "text/plain": [
       "'this is slicing'"
      ]
     },
     "execution_count": 8,
     "metadata": {},
     "output_type": "execute_result"
    }
   ],
   "source": [
    "a[:]"
   ]
  },
  {
   "cell_type": "code",
   "execution_count": 9,
   "id": "a4646aff",
   "metadata": {},
   "outputs": [
    {
     "data": {
      "text/plain": [
       "'is is slicing'"
      ]
     },
     "execution_count": 9,
     "metadata": {},
     "output_type": "execute_result"
    }
   ],
   "source": [
    "a[2:]"
   ]
  },
  {
   "cell_type": "code",
   "execution_count": 10,
   "id": "cada730c",
   "metadata": {},
   "outputs": [
    {
     "data": {
      "text/plain": [
       "'this'"
      ]
     },
     "execution_count": 10,
     "metadata": {},
     "output_type": "execute_result"
    }
   ],
   "source": [
    "a[:4]"
   ]
  },
  {
   "cell_type": "markdown",
   "id": "dc447e29",
   "metadata": {},
   "source": [
    "3 argument"
   ]
  },
  {
   "cell_type": "code",
   "execution_count": 11,
   "id": "84a49113",
   "metadata": {},
   "outputs": [
    {
     "data": {
      "text/plain": [
       "'i ss'"
      ]
     },
     "execution_count": 11,
     "metadata": {},
     "output_type": "execute_result"
    }
   ],
   "source": [
    "a[2:10:2]"
   ]
  },
  {
   "cell_type": "markdown",
   "id": "0a51d045",
   "metadata": {},
   "source": [
    "reversse slicing"
   ]
  },
  {
   "cell_type": "code",
   "execution_count": 14,
   "id": "13d8711d",
   "metadata": {},
   "outputs": [
    {
     "data": {
      "text/plain": [
       "'ils si s'"
      ]
     },
     "execution_count": 14,
     "metadata": {},
     "output_type": "execute_result"
    }
   ],
   "source": [
    "a[10:2:-1]  \n"
   ]
  },
  {
   "cell_type": "code",
   "execution_count": 16,
   "id": "b2140009",
   "metadata": {},
   "outputs": [
    {
     "name": "stdout",
     "output_type": "stream",
     "text": [
      "ajksxfkfdh\n"
     ]
    },
    {
     "data": {
      "text/plain": [
       "'ajksyfkfdh'"
      ]
     },
     "execution_count": 16,
     "metadata": {},
     "output_type": "execute_result"
    }
   ],
   "source": [
    "# replace first occurance of a with b\n",
    "s = input()\n",
    "a = 'x'\n",
    "b = 'y'\n",
    "p = s.find(a)\n",
    "ans = s\n",
    "if p != -1:  #checks wheather element is present in string\n",
    "    ans = s[:p] + b + s[p+1:]\n",
    "ans    "
   ]
  },
  {
   "cell_type": "code",
   "execution_count": 22,
   "id": "ddb2e534",
   "metadata": {},
   "outputs": [
    {
     "name": "stdout",
     "output_type": "stream",
     "text": [
      "fghfcfgbdccxzxzxx\n"
     ]
    },
    {
     "data": {
      "text/plain": [
       "'fghfcfgbdccyzyzyy'"
      ]
     },
     "execution_count": 22,
     "metadata": {},
     "output_type": "execute_result"
    }
   ],
   "source": [
    "# replace all occurance of a with b\n",
    "s = input()\n",
    "a = 'x'\n",
    "b = 'y'\n",
    "ans = s\n",
    "for i in range(0,len(ans)):\n",
    "    if ans[i] == a:\n",
    "         ans =ans[:i] + b + ans[i+1:]\n",
    "ans"
   ]
  },
  {
   "cell_type": "code",
   "execution_count": null,
   "id": "6d969a46",
   "metadata": {},
   "outputs": [],
   "source": []
  }
 ],
 "metadata": {
  "kernelspec": {
   "display_name": "Python 3 (ipykernel)",
   "language": "python",
   "name": "python3"
  },
  "language_info": {
   "codemirror_mode": {
    "name": "ipython",
    "version": 3
   },
   "file_extension": ".py",
   "mimetype": "text/x-python",
   "name": "python",
   "nbconvert_exporter": "python",
   "pygments_lexer": "ipython3",
   "version": "3.9.7"
  }
 },
 "nbformat": 4,
 "nbformat_minor": 5
}
