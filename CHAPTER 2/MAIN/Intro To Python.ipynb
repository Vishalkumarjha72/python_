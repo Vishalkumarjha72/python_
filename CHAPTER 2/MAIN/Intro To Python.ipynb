{
 "cells": [
  {
   "cell_type": "markdown",
   "id": "a9023e59",
   "metadata": {},
   "source": [
    "## Intro to python programing\n",
    "\n",
    "we can write markdown or python code in our cells. You can choose accordingly in the dropdown above\n"
   ]
  },
  {
   "cell_type": "markdown",
   "id": "01a01a6d",
   "metadata": {},
   "source": [
    "### print hello world"
   ]
  },
  {
   "cell_type": "code",
   "execution_count": 4,
   "id": "bb924d39",
   "metadata": {},
   "outputs": [
    {
     "name": "stdout",
     "output_type": "stream",
     "text": [
      "Hello world\n"
     ]
    }
   ],
   "source": [
    "print(\"Hello world\")"
   ]
  },
  {
   "cell_type": "markdown",
   "id": "dfd1f55f",
   "metadata": {},
   "source": [
    "### Variables"
   ]
  },
  {
   "cell_type": "code",
   "execution_count": 11,
   "id": "3812e2f1",
   "metadata": {},
   "outputs": [
    {
     "name": "stdout",
     "output_type": "stream",
     "text": [
      "113\n"
     ]
    }
   ],
   "source": [
    "a= 10\n",
    "b=103\n",
    "print(a+b)"
   ]
  },
  {
   "cell_type": "markdown",
   "id": "ec264f11",
   "metadata": {},
   "source": [
    "### assigning different type of data to a variable"
   ]
  },
  {
   "cell_type": "code",
   "execution_count": 19,
   "id": "29ca587e",
   "metadata": {},
   "outputs": [
    {
     "data": {
      "text/plain": [
       "20.4"
      ]
     },
     "execution_count": 19,
     "metadata": {},
     "output_type": "execute_result"
    }
   ],
   "source": [
    "a=10\n",
    "a=20\n",
    "a=\"vskjdhf\"\n",
    "a=20.4\n",
    "a"
   ]
  },
  {
   "cell_type": "code",
   "execution_count": 22,
   "id": "ade0dd1a",
   "metadata": {
    "scrolled": true
   },
   "outputs": [
    {
     "data": {
      "text/plain": [
       "float"
      ]
     },
     "execution_count": 22,
     "metadata": {},
     "output_type": "execute_result"
    }
   ],
   "source": [
    "type(a)"
   ]
  },
  {
   "cell_type": "code",
   "execution_count": 23,
   "id": "615df584",
   "metadata": {},
   "outputs": [
    {
     "name": "stdout",
     "output_type": "stream",
     "text": [
      "<class 'str'>\n"
     ]
    }
   ],
   "source": [
    "a = \"abs\"\n",
    "print(type(a))"
   ]
  },
  {
   "cell_type": "code",
   "execution_count": 25,
   "id": "126ed855",
   "metadata": {},
   "outputs": [
    {
     "name": "stdout",
     "output_type": "stream",
     "text": [
      "<class 'int'>\n",
      "<class 'float'>\n",
      "<class 'complex'>\n"
     ]
    }
   ],
   "source": [
    "a1 = 34\n",
    "a2 = 45.4\n",
    "a3 = 4 + 4j\n",
    "print(type(a1))\n",
    "print(type(a2))\n",
    "print(type(a3))"
   ]
  },
  {
   "cell_type": "markdown",
   "id": "0e17e362",
   "metadata": {},
   "source": [
    "### same variable different address"
   ]
  },
  {
   "cell_type": "code",
   "execution_count": 31,
   "id": "cd2c28e6",
   "metadata": {
    "scrolled": true
   },
   "outputs": [
    {
     "name": "stdout",
     "output_type": "stream",
     "text": [
      "2080631777872\n",
      "2080631777904\n"
     ]
    },
    {
     "data": {
      "text/plain": [
       "11"
      ]
     },
     "execution_count": 31,
     "metadata": {},
     "output_type": "execute_result"
    }
   ],
   "source": [
    "a=10\n",
    "print(id(a))\n",
    "a = a+1\n",
    "print(id(a))\n",
    "a"
   ]
  },
  {
   "cell_type": "markdown",
   "id": "7eb6b2ce",
   "metadata": {},
   "source": [
    "### Different variable have same address"
   ]
  },
  {
   "cell_type": "code",
   "execution_count": 36,
   "id": "67b47282",
   "metadata": {},
   "outputs": [
    {
     "name": "stdout",
     "output_type": "stream",
     "text": [
      "2080631777872\n",
      "2080631777872\n"
     ]
    }
   ],
   "source": [
    "a =10\n",
    "b= 10\n",
    "print(id(a)) \n",
    "print(id(b))"
   ]
  },
  {
   "cell_type": "markdown",
   "id": "c4ba06de",
   "metadata": {},
   "source": [
    "### Arithmatic operator"
   ]
  },
  {
   "cell_type": "code",
   "execution_count": 35,
   "id": "928e1477",
   "metadata": {
    "scrolled": true
   },
   "outputs": [
    {
     "name": "stdout",
     "output_type": "stream",
     "text": [
      "6\n",
      "6\n",
      "14\n",
      "40\n",
      "2.5\n",
      "2\n",
      "10000\n",
      "2\n"
     ]
    }
   ],
   "source": [
    "a=10\n",
    "b=4\n",
    "print(a-b)\n",
    "print(abs(b-a))\n",
    "print(a+b)\n",
    "print(a*b)\n",
    "print(a/b)\n",
    "print(a//b)\n",
    "print(a**b)\n",
    "print(a%b) "
   ]
  },
  {
   "cell_type": "markdown",
   "id": "e8039c4d",
   "metadata": {},
   "source": [
    "### Taking input from the user "
   ]
  },
  {
   "cell_type": "code",
   "execution_count": 40,
   "id": "c4456340",
   "metadata": {},
   "outputs": [
    {
     "name": "stdout",
     "output_type": "stream",
     "text": [
      "5656\n",
      "5656\n"
     ]
    }
   ],
   "source": [
    "a = input()\n",
    "print(a)"
   ]
  },
  {
   "cell_type": "markdown",
   "id": "e724bfbd",
   "metadata": {},
   "source": [
    "## A weird situation "
   ]
  },
  {
   "cell_type": "code",
   "execution_count": 42,
   "id": "c86ad1e0",
   "metadata": {},
   "outputs": [
    {
     "name": "stdout",
     "output_type": "stream",
     "text": [
      "23\n",
      "44\n",
      "2344\n",
      "<class 'str'>\n",
      "<class 'str'>\n"
     ]
    }
   ],
   "source": [
    "a = input()\n",
    "b = input()\n",
    "s = a+b\n",
    "print(s)\n",
    "print(type(a))\n",
    "print(type(b))"
   ]
  },
  {
   "cell_type": "markdown",
   "id": "67c51616",
   "metadata": {},
   "source": [
    "### converting to integer"
   ]
  },
  {
   "cell_type": "code",
   "execution_count": 46,
   "id": "0e40491c",
   "metadata": {
    "scrolled": true
   },
   "outputs": [
    {
     "name": "stdout",
     "output_type": "stream",
     "text": [
      "<class 'int'>\n",
      "54\n"
     ]
    }
   ],
   "source": [
    "\n",
    "b=34\n",
    "print(type(b))\n",
    "c= int(54.64)\n",
    "print(c)\n"
   ]
  },
  {
   "cell_type": "code",
   "execution_count": 45,
   "id": "b338a7bc",
   "metadata": {},
   "outputs": [
    {
     "name": "stdout",
     "output_type": "stream",
     "text": [
      "23\n",
      "44\n",
      "67\n",
      "<class 'int'>\n",
      "<class 'int'>\n"
     ]
    }
   ],
   "source": [
    "a=int(input())\n",
    "b=int(input())\n",
    "s= a+b\n",
    "print(s)\n",
    "print(type(a))\n",
    "print(type(b))"
   ]
  }
 ],
 "metadata": {
  "kernelspec": {
   "display_name": "Python 3 (ipykernel)",
   "language": "python",
   "name": "python3"
  },
  "language_info": {
   "codemirror_mode": {
    "name": "ipython",
    "version": 3
   },
   "file_extension": ".py",
   "mimetype": "text/x-python",
   "name": "python",
   "nbconvert_exporter": "python",
   "pygments_lexer": "ipython3",
   "version": "3.9.7"
  }
 },
 "nbformat": 4,
 "nbformat_minor": 5
}
